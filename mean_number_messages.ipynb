{
 "cells": [
  {
   "cell_type": "code",
   "execution_count": 1,
   "metadata": {},
   "outputs": [
    {
     "data": {
      "application/vnd.jupyter.widget-view+json": {
       "model_id": "33a13464e6074016bd08721fca4cc810",
       "version_major": 2,
       "version_minor": 0
      },
      "text/plain": [
       "interactive(children=(FloatSlider(value=0.5, description='b', max=0.96, min=0.05, step=0.01), Output()), _dom_…"
      ]
     },
     "metadata": {},
     "output_type": "display_data"
    }
   ],
   "source": [
    "# Gráfica del número medio de mensajes en el sistema\n",
    "\n",
    "# IMPORTANT:\n",
    "# For this interactive plot to work in jupyter-lab, follow these instructions:\n",
    "# https://github.com/jupyter-widgets/ipywidgets#install\n",
    "\n",
    "# matplotlib and numpy can be installed using pip or conda,\n",
    "# they should not require any additional steps\n",
    "\n",
    "\n",
    "import numpy as np\n",
    "import matplotlib.pyplot as plt\n",
    "import ipywidgets as widgets\n",
    "\n",
    "NPOINTS = 32 # number of points per plot\n",
    "\n",
    "def get_N(a, b):\n",
    "    \"\"\"Calculate expected queue size for provided parameters `a` and `b`.\"\"\"\n",
    "    return abs((1 - a)*a / (b - a))\n",
    "\n",
    "def get_a_values(b):\n",
    "    \"\"\"Create a nice distribution of points for plotting this specific plot\"\"\"\n",
    "    # more values that are close to b\n",
    "    _a = b * (1 - np.logspace(0.01, 1.7+b*b, NPOINTS, base=0.1, endpoint=True))\n",
    "    # add zero in front\n",
    "    a = np.concatenate((np.array([0]), _a))\n",
    "    return a\n",
    "\n",
    "def get_configured_plot(b):\n",
    "    # configure plot\n",
    "    fig, ax = plt.subplots(figsize=[12.8, 9.6]) # figsize is in inches\n",
    "    ax.set_ylim(top=2 + 16*b)\n",
    "    ax.set_xlim(right=1)\n",
    "    # TODO: Maybe use expected instead of average?\n",
    "    ax.set_title('Número medio de mensajes frente al parámetro `a`', fontsize=22)\n",
    "    ax.set_ylabel('Número medio de mensajes', fontsize=18)\n",
    "    ax.set_xlabel('Value of a', fontsize=18)\n",
    "    ax.set_xticks([0.1 * i for i in range(11)])\n",
    "    ax.grid(color='gray', linestyle='--', linewidth=0.2)\n",
    "    return fig, ax\n",
    "\n",
    "def plot_examples(ax):\n",
    "    \"\"\"Plot example/reference figures for some other values of b\"\"\"\n",
    "    b1 = 0.7\n",
    "    a1 = get_a_values(b1)\n",
    "    N1 = get_N(a1, b1)\n",
    "    ax.plot(a1, N1, marker='o', color = 'g', label= f'b = {b1}')\n",
    "    \n",
    "    b2 = 0.8\n",
    "    a2 = get_a_values(b2)\n",
    "    N2 = get_N(a2, b2)\n",
    "    ax.plot(a2, N2, marker='o', color = 'b', label= f'b = {b2}')\n",
    "    \n",
    "    b3 = 0.9   \n",
    "    a3 = get_a_values(b3)\n",
    "    N3 = get_N(a3, b3)\n",
    "    ax.plot(a3, N3, marker='o', color = 'm', label= f'b = {b3}')\n",
    "\n",
    "    \n",
    "# add slider to adjust value of `b`\n",
    "b_widget = widgets.FloatSlider(value=0.5, min=0.05, max=0.96, step=0.01)\n",
    "\n",
    "# this decorator does some magic to rerender our plot in response in change of `b`\n",
    "@widgets.interact(b=b_widget)\n",
    "def plot_queue_size(b):\n",
    "    \"\"\"Gráfica del número medio de mensajes en el sistema\"\"\"\n",
    "    a = get_a_values(b)\n",
    "    N = get_N(a, b)\n",
    "    \n",
    "    fig, ax = get_configured_plot(b)\n",
    "    \n",
    "    # plot figure with chosen b\n",
    "    ax.plot(a, N, marker='o', color = 'r', label= f'chosen b = {b}')\n",
    "    \n",
    "    plot_examples(ax)\n",
    "    ax.legend(loc=2, fontsize=18)# see https://matplotlib.org/3.1.1/api/_as_gen/matplotlib.pyplot.legend.html"
   ]
  },
  {
   "cell_type": "code",
   "execution_count": null,
   "metadata": {},
   "outputs": [],
   "source": []
  }
 ],
 "metadata": {
  "kernelspec": {
   "display_name": "Python 3",
   "language": "python",
   "name": "python3"
  },
  "language_info": {
   "codemirror_mode": {
    "name": "ipython",
    "version": 3
   },
   "file_extension": ".py",
   "mimetype": "text/x-python",
   "name": "python",
   "nbconvert_exporter": "python",
   "pygments_lexer": "ipython3",
   "version": "3.8.3"
  }
 },
 "nbformat": 4,
 "nbformat_minor": 4
}
