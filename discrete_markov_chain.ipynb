{
 "cells": [
  {
   "cell_type": "raw",
   "metadata": {},
   "source": [
    "This code is based on code from IPython Cookbook 2nd edition, chapter 13.1\n",
    "ISBN:9781785888632"
   ]
  },
  {
   "cell_type": "code",
   "execution_count": 1,
   "metadata": {},
   "outputs": [
    {
     "data": {
      "text/plain": [
       "[<matplotlib.lines.Line2D at 0x7f3fa7a56610>]"
      ]
     },
     "execution_count": 1,
     "metadata": {},
     "output_type": "execute_result"
    },
    {
     "data": {
      "image/png": "[encoded data removed]",
      "text/plain": [
       "<Figure size 576x288 with 1 Axes>"
      ]
     },
     "metadata": {
      "needs_background": "light"
     },
     "output_type": "display_data"
    }
   ],
   "source": [
    "import numpy as np\n",
    "import matplotlib.pyplot as plt\n",
    "\n",
    "# Initial values\n",
    "N = 2000  # maximum population size\n",
    "a = .5 / N  # birth rate\n",
    "b = .5 / N  # death rate\n",
    "nsteps = 10000 # number of iterations\n",
    "\n",
    "# initialize memory with zeros \n",
    "# np.zeros(3) -> array([0., 0., 0.])\n",
    "x = np.zeros(nsteps) \n",
    "# set \n",
    "x[0] = N//4\n",
    "\n",
    "# initialize  memory  with  zeros\n",
    "for t in range(nsteps - 1):\n",
    "    if 0 < x[t] < N:\n",
    "        # Is there a birth?\n",
    "        birth = np.random.rand() <= a * x[t]\n",
    "        # Is there a death?\n",
    "        death = np.random.rand() <= b * x[t]\n",
    "        # We update the population size.\n",
    "        x[t+1] = x[t] + 1 * birth - 1 * death\n",
    "    # The evolution stops if we reach $0$ or $N$.\n",
    "    else:\n",
    "        x[t+1] = x[t]\n",
    "fig, ax = plt.subplots(1, 1, figsize=(8, 4))\n",
    "ax.plot(x, lw=2)"
   ]
  },
  {
   "cell_type": "markdown",
   "metadata": {},
   "source": [
    "Interactive Version\n",
    "======"
   ]
  },
  {
   "cell_type": "code",
   "execution_count": 2,
   "metadata": {},
   "outputs": [
    {
     "data": {
      "application/vnd.jupyter.widget-view+json": {
       "model_id": "fff1a07a6086489c82c7930819726048",
       "version_major": 2,
       "version_minor": 0
      },
      "text/plain": [
       "interactive(children=(FloatSlider(value=0.5, description='a', max=0.95, min=0.05, step=0.01), FloatSlider(valu…"
      ]
     },
     "metadata": {},
     "output_type": "display_data"
    }
   ],
   "source": [
    "# Interactive variant\n",
    "import numpy as np\n",
    "import matplotlib.pyplot as plt\n",
    "\n",
    "from numpy.random import MT19937\n",
    "from numpy.random import RandomState, SeedSequence\n",
    "import ipywidgets as widgets\n",
    "from ipywidgets import interact\n",
    "\n",
    "# Initial values\n",
    "N = 2000  # maximum population size\n",
    "a = .5  # birth probability\n",
    "b = .5  # death probability\n",
    "nsteps = 10000\n",
    "seed = 100\n",
    "\n",
    "w_a=widgets.FloatSlider(value=a, min=0.05, max=0.95, step=0.01)\n",
    "w_b=widgets.FloatSlider(value=b, min=0.05, max=0.95, step=0.01)\n",
    "w_N=widgets.IntSlider(value=N, min=10, max=5000, step=1)\n",
    "w_nsteps=widgets.IntSlider(value=nsteps, min=1000, max=10000, step=1)\n",
    "w_seed=widgets.IntSlider(value=seed, min=1, max=200)\n",
    "\n",
    "@interact(a=w_a, b=w_b, N=w_N, nsteps=w_nsteps, seed=w_seed)\n",
    "def discrete_markov(a=a, b=b, N=N, nsteps=nsteps, seed=seed):\n",
    "    # b=1-a\n",
    "    x = np.zeros(nsteps)\n",
    "    x[0] = N//4\n",
    "    rs = RandomState(MT19937(SeedSequence(seed)))\n",
    "    #prev (x[t-1]) -> transition -> current (x[t])\n",
    "\n",
    "    for t in range(1, nsteps):\n",
    "        prev = x[t-1]\n",
    "        if 0 < prev < N:\n",
    "            # Is there a birth?\n",
    "            birth = rs.rand() <= a * prev/N\n",
    "            # Is there a death?\n",
    "            death = rs.rand() <= b * prev/N\n",
    "            # We update the population size.\n",
    "            x[t] = prev + 1 * birth - 1 * death\n",
    "        # The evolution stops if we reach $0$ or $N$.\n",
    "        else:\n",
    "            x[t] = prev\n",
    "    display(f\"b: {b}\")\n",
    "    fig, ax = plt.subplots(1, 1, figsize=(8, 4))\n",
    "    ax.plot(x, lw=2)"
   ]
  },
  {
   "cell_type": "code",
   "execution_count": null,
   "metadata": {},
   "outputs": [],
   "source": []
  }
 ],
 "metadata": {
  "kernelspec": {
   "display_name": "Python 3",
   "language": "python",
   "name": "python3"
  },
  "language_info": {
   "codemirror_mode": {
    "name": "ipython",
    "version": 3
   },
   "file_extension": ".py",
   "mimetype": "text/x-python",
   "name": "python",
   "nbconvert_exporter": "python",
   "pygments_lexer": "ipython3",
   "version": "3.8.3"
  }
 },
 "nbformat": 4,
 "nbformat_minor": 4
}
